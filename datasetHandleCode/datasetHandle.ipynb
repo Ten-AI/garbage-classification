{
 "cells": [
  {
   "cell_type": "code",
   "execution_count": 1,
   "metadata": {},
   "outputs": [],
   "source": [
    "import pandas as pd"
   ]
  },
  {
   "cell_type": "code",
   "execution_count": 2,
   "metadata": {},
   "outputs": [],
   "source": [
    "dataset = pd.read_csv('./train-annotations-bbox.csv')"
   ]
  },
  {
   "cell_type": "code",
   "execution_count": 3,
   "metadata": {},
   "outputs": [
    {
     "data": {
      "text/html": [
       "<div>\n",
       "<style scoped>\n",
       "    .dataframe tbody tr th:only-of-type {\n",
       "        vertical-align: middle;\n",
       "    }\n",
       "\n",
       "    .dataframe tbody tr th {\n",
       "        vertical-align: top;\n",
       "    }\n",
       "\n",
       "    .dataframe thead th {\n",
       "        text-align: right;\n",
       "    }\n",
       "</style>\n",
       "<table border=\"1\" class=\"dataframe\">\n",
       "  <thead>\n",
       "    <tr style=\"text-align: right;\">\n",
       "      <th></th>\n",
       "      <th>ImageID</th>\n",
       "      <th>Source</th>\n",
       "      <th>LabelName</th>\n",
       "      <th>Confidence</th>\n",
       "      <th>XMin</th>\n",
       "      <th>XMax</th>\n",
       "      <th>YMin</th>\n",
       "      <th>YMax</th>\n",
       "      <th>IsOccluded</th>\n",
       "      <th>IsTruncated</th>\n",
       "      <th>IsGroupOf</th>\n",
       "      <th>IsDepiction</th>\n",
       "      <th>IsInside</th>\n",
       "    </tr>\n",
       "  </thead>\n",
       "  <tbody>\n",
       "    <tr>\n",
       "      <th>0</th>\n",
       "      <td>000002b66c9c498e</td>\n",
       "      <td>xclick</td>\n",
       "      <td>/m/01g317</td>\n",
       "      <td>1</td>\n",
       "      <td>0.012500</td>\n",
       "      <td>0.195312</td>\n",
       "      <td>0.148438</td>\n",
       "      <td>0.587500</td>\n",
       "      <td>0</td>\n",
       "      <td>1</td>\n",
       "      <td>0</td>\n",
       "      <td>0</td>\n",
       "      <td>0</td>\n",
       "    </tr>\n",
       "    <tr>\n",
       "      <th>1</th>\n",
       "      <td>000002b66c9c498e</td>\n",
       "      <td>xclick</td>\n",
       "      <td>/m/01g317</td>\n",
       "      <td>1</td>\n",
       "      <td>0.025000</td>\n",
       "      <td>0.276563</td>\n",
       "      <td>0.714063</td>\n",
       "      <td>0.948438</td>\n",
       "      <td>0</td>\n",
       "      <td>1</td>\n",
       "      <td>0</td>\n",
       "      <td>0</td>\n",
       "      <td>0</td>\n",
       "    </tr>\n",
       "    <tr>\n",
       "      <th>2</th>\n",
       "      <td>000002b66c9c498e</td>\n",
       "      <td>xclick</td>\n",
       "      <td>/m/01g317</td>\n",
       "      <td>1</td>\n",
       "      <td>0.151562</td>\n",
       "      <td>0.310937</td>\n",
       "      <td>0.198437</td>\n",
       "      <td>0.590625</td>\n",
       "      <td>1</td>\n",
       "      <td>0</td>\n",
       "      <td>0</td>\n",
       "      <td>0</td>\n",
       "      <td>0</td>\n",
       "    </tr>\n",
       "    <tr>\n",
       "      <th>3</th>\n",
       "      <td>000002b66c9c498e</td>\n",
       "      <td>xclick</td>\n",
       "      <td>/m/01g317</td>\n",
       "      <td>1</td>\n",
       "      <td>0.256250</td>\n",
       "      <td>0.429688</td>\n",
       "      <td>0.651563</td>\n",
       "      <td>0.925000</td>\n",
       "      <td>1</td>\n",
       "      <td>0</td>\n",
       "      <td>0</td>\n",
       "      <td>0</td>\n",
       "      <td>0</td>\n",
       "    </tr>\n",
       "    <tr>\n",
       "      <th>4</th>\n",
       "      <td>000002b66c9c498e</td>\n",
       "      <td>xclick</td>\n",
       "      <td>/m/01g317</td>\n",
       "      <td>1</td>\n",
       "      <td>0.257812</td>\n",
       "      <td>0.346875</td>\n",
       "      <td>0.235938</td>\n",
       "      <td>0.385938</td>\n",
       "      <td>1</td>\n",
       "      <td>0</td>\n",
       "      <td>0</td>\n",
       "      <td>0</td>\n",
       "      <td>0</td>\n",
       "    </tr>\n",
       "  </tbody>\n",
       "</table>\n",
       "</div>"
      ],
      "text/plain": [
       "            ImageID  Source  LabelName  Confidence      XMin      XMax  \\\n",
       "0  000002b66c9c498e  xclick  /m/01g317           1  0.012500  0.195312   \n",
       "1  000002b66c9c498e  xclick  /m/01g317           1  0.025000  0.276563   \n",
       "2  000002b66c9c498e  xclick  /m/01g317           1  0.151562  0.310937   \n",
       "3  000002b66c9c498e  xclick  /m/01g317           1  0.256250  0.429688   \n",
       "4  000002b66c9c498e  xclick  /m/01g317           1  0.257812  0.346875   \n",
       "\n",
       "       YMin      YMax  IsOccluded  IsTruncated  IsGroupOf  IsDepiction  \\\n",
       "0  0.148438  0.587500           0            1          0            0   \n",
       "1  0.714063  0.948438           0            1          0            0   \n",
       "2  0.198437  0.590625           1            0          0            0   \n",
       "3  0.651563  0.925000           1            0          0            0   \n",
       "4  0.235938  0.385938           1            0          0            0   \n",
       "\n",
       "   IsInside  \n",
       "0         0  \n",
       "1         0  \n",
       "2         0  \n",
       "3         0  \n",
       "4         0  "
      ]
     },
     "execution_count": 3,
     "metadata": {},
     "output_type": "execute_result"
    }
   ],
   "source": [
    "# dataset的数据为每张图像中每个物体的具体位置\n",
    "dataset.head(5)"
   ]
  },
  {
   "cell_type": "code",
   "execution_count": 4,
   "metadata": {},
   "outputs": [
    {
     "data": {
      "text/plain": [
       "1743042"
      ]
     },
     "execution_count": 4,
     "metadata": {},
     "output_type": "execute_result"
    }
   ],
   "source": [
    "len(dataset['ImageID'].unique())"
   ]
  },
  {
   "cell_type": "code",
   "execution_count": 6,
   "metadata": {},
   "outputs": [],
   "source": [
    "dataset1 = pd.read_csv('./train-images-boxable-with-rotation.csv')"
   ]
  },
  {
   "cell_type": "code",
   "execution_count": 7,
   "metadata": {},
   "outputs": [
    {
     "data": {
      "text/plain": [
       "1743042"
      ]
     },
     "execution_count": 7,
     "metadata": {},
     "output_type": "execute_result"
    }
   ],
   "source": [
    "len(dataset1['ImageID'].unique())"
   ]
  },
  {
   "cell_type": "code",
   "execution_count": 9,
   "metadata": {},
   "outputs": [
    {
     "data": {
      "text/html": [
       "<div>\n",
       "<style scoped>\n",
       "    .dataframe tbody tr th:only-of-type {\n",
       "        vertical-align: middle;\n",
       "    }\n",
       "\n",
       "    .dataframe tbody tr th {\n",
       "        vertical-align: top;\n",
       "    }\n",
       "\n",
       "    .dataframe thead th {\n",
       "        text-align: right;\n",
       "    }\n",
       "</style>\n",
       "<table border=\"1\" class=\"dataframe\">\n",
       "  <thead>\n",
       "    <tr style=\"text-align: right;\">\n",
       "      <th></th>\n",
       "      <th>ImageID</th>\n",
       "      <th>Subset</th>\n",
       "      <th>OriginalURL</th>\n",
       "      <th>OriginalLandingURL</th>\n",
       "      <th>License</th>\n",
       "      <th>AuthorProfileURL</th>\n",
       "      <th>Author</th>\n",
       "      <th>Title</th>\n",
       "      <th>OriginalSize</th>\n",
       "      <th>OriginalMD5</th>\n",
       "      <th>Thumbnail300KURL</th>\n",
       "      <th>Rotation</th>\n",
       "    </tr>\n",
       "  </thead>\n",
       "  <tbody>\n",
       "    <tr>\n",
       "      <th>0</th>\n",
       "      <td>4fa8054781a4c382</td>\n",
       "      <td>train</td>\n",
       "      <td>https://farm3.staticflickr.com/5310/5898076654...</td>\n",
       "      <td>https://www.flickr.com/photos/michael-beat/589...</td>\n",
       "      <td>https://creativecommons.org/licenses/by/2.0/</td>\n",
       "      <td>https://www.flickr.com/people/michael-beat/</td>\n",
       "      <td>Michael Beat</td>\n",
       "      <td>...die FNF-Kerze</td>\n",
       "      <td>4405052</td>\n",
       "      <td>KFukvivpCM5QXl5SqKe41g==</td>\n",
       "      <td>https://c1.staticflickr.com/6/5310/5898076654_...</td>\n",
       "      <td>0.0</td>\n",
       "    </tr>\n",
       "    <tr>\n",
       "      <th>1</th>\n",
       "      <td>b37f763ae67d0888</td>\n",
       "      <td>train</td>\n",
       "      <td>https://c1.staticflickr.com/1/67/197493648_628...</td>\n",
       "      <td>https://www.flickr.com/photos/drstarbuck/19749...</td>\n",
       "      <td>https://creativecommons.org/licenses/by/2.0/</td>\n",
       "      <td>https://www.flickr.com/people/drstarbuck/</td>\n",
       "      <td>Karen</td>\n",
       "      <td>Three boys on a hill</td>\n",
       "      <td>494555</td>\n",
       "      <td>9IzEn38GRNsVpATuv7gzEA==</td>\n",
       "      <td>https://c3.staticflickr.com/1/67/197493648_628...</td>\n",
       "      <td>0.0</td>\n",
       "    </tr>\n",
       "    <tr>\n",
       "      <th>2</th>\n",
       "      <td>7e8584b0f487cb9e</td>\n",
       "      <td>train</td>\n",
       "      <td>https://c7.staticflickr.com/8/7056/7143870979_...</td>\n",
       "      <td>https://www.flickr.com/photos/circasassy/71438...</td>\n",
       "      <td>https://creativecommons.org/licenses/by/2.0/</td>\n",
       "      <td>https://www.flickr.com/people/circasassy/</td>\n",
       "      <td>CircaSassy</td>\n",
       "      <td>A Christmas carol and The cricket on the heart...</td>\n",
       "      <td>2371584</td>\n",
       "      <td>3hQwu0iSzY1VIoXiwp0/Mg==</td>\n",
       "      <td>https://c7.staticflickr.com/8/7056/7143870979_...</td>\n",
       "      <td>0.0</td>\n",
       "    </tr>\n",
       "    <tr>\n",
       "      <th>3</th>\n",
       "      <td>86638230febe21c4</td>\n",
       "      <td>train</td>\n",
       "      <td>https://farm5.staticflickr.com/5128/5301868579...</td>\n",
       "      <td>https://www.flickr.com/photos/ajcreencia/53018...</td>\n",
       "      <td>https://creativecommons.org/licenses/by/2.0/</td>\n",
       "      <td>https://www.flickr.com/people/ajcreencia/</td>\n",
       "      <td>Alex</td>\n",
       "      <td>Abbey and Kenny</td>\n",
       "      <td>949267</td>\n",
       "      <td>onB+rCZnGQg5PRX7xOs18Q==</td>\n",
       "      <td>https://c4.staticflickr.com/6/5128/5301868579_...</td>\n",
       "      <td>NaN</td>\n",
       "    </tr>\n",
       "    <tr>\n",
       "      <th>4</th>\n",
       "      <td>249086e72671397d</td>\n",
       "      <td>train</td>\n",
       "      <td>https://c6.staticflickr.com/4/3930/15342460029...</td>\n",
       "      <td>https://www.flickr.com/photos/codnewsroom/1534...</td>\n",
       "      <td>https://creativecommons.org/licenses/by/2.0/</td>\n",
       "      <td>https://www.flickr.com/people/codnewsroom/</td>\n",
       "      <td>COD Newsroom</td>\n",
       "      <td>Suburban Law Enforcement Academy 20th Annivers...</td>\n",
       "      <td>6541758</td>\n",
       "      <td>MjpaAVbMAWbCusSaxI1D7w==</td>\n",
       "      <td>https://c1.staticflickr.com/4/3930/15342460029...</td>\n",
       "      <td>0.0</td>\n",
       "    </tr>\n",
       "  </tbody>\n",
       "</table>\n",
       "</div>"
      ],
      "text/plain": [
       "            ImageID Subset                                        OriginalURL  \\\n",
       "0  4fa8054781a4c382  train  https://farm3.staticflickr.com/5310/5898076654...   \n",
       "1  b37f763ae67d0888  train  https://c1.staticflickr.com/1/67/197493648_628...   \n",
       "2  7e8584b0f487cb9e  train  https://c7.staticflickr.com/8/7056/7143870979_...   \n",
       "3  86638230febe21c4  train  https://farm5.staticflickr.com/5128/5301868579...   \n",
       "4  249086e72671397d  train  https://c6.staticflickr.com/4/3930/15342460029...   \n",
       "\n",
       "                                  OriginalLandingURL  \\\n",
       "0  https://www.flickr.com/photos/michael-beat/589...   \n",
       "1  https://www.flickr.com/photos/drstarbuck/19749...   \n",
       "2  https://www.flickr.com/photos/circasassy/71438...   \n",
       "3  https://www.flickr.com/photos/ajcreencia/53018...   \n",
       "4  https://www.flickr.com/photos/codnewsroom/1534...   \n",
       "\n",
       "                                        License  \\\n",
       "0  https://creativecommons.org/licenses/by/2.0/   \n",
       "1  https://creativecommons.org/licenses/by/2.0/   \n",
       "2  https://creativecommons.org/licenses/by/2.0/   \n",
       "3  https://creativecommons.org/licenses/by/2.0/   \n",
       "4  https://creativecommons.org/licenses/by/2.0/   \n",
       "\n",
       "                              AuthorProfileURL        Author  \\\n",
       "0  https://www.flickr.com/people/michael-beat/  Michael Beat   \n",
       "1    https://www.flickr.com/people/drstarbuck/         Karen   \n",
       "2    https://www.flickr.com/people/circasassy/    CircaSassy   \n",
       "3    https://www.flickr.com/people/ajcreencia/          Alex   \n",
       "4   https://www.flickr.com/people/codnewsroom/  COD Newsroom   \n",
       "\n",
       "                                               Title  OriginalSize  \\\n",
       "0                                   ...die FNF-Kerze       4405052   \n",
       "1                               Three boys on a hill        494555   \n",
       "2  A Christmas carol and The cricket on the heart...       2371584   \n",
       "3                                    Abbey and Kenny        949267   \n",
       "4  Suburban Law Enforcement Academy 20th Annivers...       6541758   \n",
       "\n",
       "                OriginalMD5  \\\n",
       "0  KFukvivpCM5QXl5SqKe41g==   \n",
       "1  9IzEn38GRNsVpATuv7gzEA==   \n",
       "2  3hQwu0iSzY1VIoXiwp0/Mg==   \n",
       "3  onB+rCZnGQg5PRX7xOs18Q==   \n",
       "4  MjpaAVbMAWbCusSaxI1D7w==   \n",
       "\n",
       "                                    Thumbnail300KURL  Rotation  \n",
       "0  https://c1.staticflickr.com/6/5310/5898076654_...       0.0  \n",
       "1  https://c3.staticflickr.com/1/67/197493648_628...       0.0  \n",
       "2  https://c7.staticflickr.com/8/7056/7143870979_...       0.0  \n",
       "3  https://c4.staticflickr.com/6/5128/5301868579_...       NaN  \n",
       "4  https://c1.staticflickr.com/4/3930/15342460029...       0.0  "
      ]
     },
     "execution_count": 9,
     "metadata": {},
     "output_type": "execute_result"
    }
   ],
   "source": [
    "# dataset1的数据集为图片集的来源\n",
    "dataset1.head(5)"
   ]
  },
  {
   "cell_type": "code",
   "execution_count": 26,
   "metadata": {},
   "outputs": [],
   "source": [
    "# 提取dataset1中的图片ID和url\n",
    "dataset2 = dataset1.drop(['Subset','OriginalURL','License','AuthorProfileURL','Author','Title','OriginalSize','OriginalMD5','Thumbnail300KURL','Rotation'],axis=1)"
   ]
  },
  {
   "cell_type": "code",
   "execution_count": 27,
   "metadata": {},
   "outputs": [
    {
     "data": {
      "text/html": [
       "<div>\n",
       "<style scoped>\n",
       "    .dataframe tbody tr th:only-of-type {\n",
       "        vertical-align: middle;\n",
       "    }\n",
       "\n",
       "    .dataframe tbody tr th {\n",
       "        vertical-align: top;\n",
       "    }\n",
       "\n",
       "    .dataframe thead th {\n",
       "        text-align: right;\n",
       "    }\n",
       "</style>\n",
       "<table border=\"1\" class=\"dataframe\">\n",
       "  <thead>\n",
       "    <tr style=\"text-align: right;\">\n",
       "      <th></th>\n",
       "      <th>ImageID</th>\n",
       "      <th>OriginalLandingURL</th>\n",
       "    </tr>\n",
       "  </thead>\n",
       "  <tbody>\n",
       "    <tr>\n",
       "      <th>0</th>\n",
       "      <td>4fa8054781a4c382</td>\n",
       "      <td>https://www.flickr.com/photos/michael-beat/589...</td>\n",
       "    </tr>\n",
       "    <tr>\n",
       "      <th>1</th>\n",
       "      <td>b37f763ae67d0888</td>\n",
       "      <td>https://www.flickr.com/photos/drstarbuck/19749...</td>\n",
       "    </tr>\n",
       "  </tbody>\n",
       "</table>\n",
       "</div>"
      ],
      "text/plain": [
       "            ImageID                                 OriginalLandingURL\n",
       "0  4fa8054781a4c382  https://www.flickr.com/photos/michael-beat/589...\n",
       "1  b37f763ae67d0888  https://www.flickr.com/photos/drstarbuck/19749..."
      ]
     },
     "execution_count": 27,
     "metadata": {},
     "output_type": "execute_result"
    }
   ],
   "source": [
    "dataset2.head(2)"
   ]
  },
  {
   "cell_type": "code",
   "execution_count": 28,
   "metadata": {},
   "outputs": [],
   "source": [
    "# save\n",
    "dataset2.to_csv('./urllink.csv')"
   ]
  },
  {
   "cell_type": "code",
   "execution_count": 29,
   "metadata": {},
   "outputs": [
    {
     "data": {
      "text/plain": [
       "Index(['ImageID', 'OriginalLandingURL'], dtype='object')"
      ]
     },
     "execution_count": 29,
     "metadata": {},
     "output_type": "execute_result"
    }
   ],
   "source": [
    "dataset2.columns"
   ]
  },
  {
   "cell_type": "code",
   "execution_count": 6,
   "metadata": {},
   "outputs": [],
   "source": [
    "dataset3 = dataset.drop(['Source','Confidence'],axis=1)"
   ]
  },
  {
   "cell_type": "code",
   "execution_count": 7,
   "metadata": {},
   "outputs": [
    {
     "data": {
      "text/plain": [
       "Index(['ImageID', 'LabelName', 'XMin', 'XMax', 'YMin', 'YMax', 'IsOccluded',\n",
       "       'IsTruncated', 'IsGroupOf', 'IsDepiction', 'IsInside'],\n",
       "      dtype='object')"
      ]
     },
     "execution_count": 7,
     "metadata": {},
     "output_type": "execute_result"
    }
   ],
   "source": [
    "dataset3.columns"
   ]
  },
  {
   "cell_type": "code",
   "execution_count": 11,
   "metadata": {},
   "outputs": [],
   "source": [
    "# save\n",
    "dataset3.to_csv('./detail.csv',header=False) "
   ]
  },
  {
   "cell_type": "code",
   "execution_count": null,
   "metadata": {},
   "outputs": [],
   "source": []
  }
 ],
 "metadata": {
  "kernelspec": {
   "display_name": "Python 3",
   "language": "python",
   "name": "python3"
  },
  "language_info": {
   "codemirror_mode": {
    "name": "ipython",
    "version": 3
   },
   "file_extension": ".py",
   "mimetype": "text/x-python",
   "name": "python",
   "nbconvert_exporter": "python",
   "pygments_lexer": "ipython3",
   "version": "3.6.2"
  }
 },
 "nbformat": 4,
 "nbformat_minor": 2
}